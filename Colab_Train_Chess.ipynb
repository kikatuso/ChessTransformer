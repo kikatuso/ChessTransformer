{
  "cells": [
    {
      "cell_type": "markdown",
      "metadata": {
        "id": "view-in-github",
        "colab_type": "text"
      },
      "source": [
        "<a href=\"https://colab.research.google.com/github/kikatuso/ChessTransformer/blob/main/Colab_Train_Chess.ipynb\" target=\"_parent\"><img src=\"https://colab.research.google.com/assets/colab-badge.svg\" alt=\"Open In Colab\"/></a>"
      ]
    },
    {
      "cell_type": "markdown",
      "metadata": {
        "id": "hN6b2WP-QD1V"
      },
      "source": [
        "\n",
        "\n",
        "[google Palm](https://arxiv.org/pdf/2204.02311.pdf)\n",
        "\n",
        "TODO:\n",
        "1. add embedding to the model, with initiliased weights from gensim fasttext:\n",
        "```\n",
        "weights = torch.FloatTensor(embedding.embed_layer.wv)\n",
        "nn.Embedding.from_pretrained(weights)\n",
        "```\n",
        "you should learning the model with embedding parameters freezed, wait til the training converges and then unfreeze the weights and train some more ([ref here](https://stackoverflow.com/questions/58630101/using-torch-nn-embedding-for-glove-should-we-fine-tune-the-embeddings-or-just-u))\n",
        "```\n",
        "embeddings = nn.Embedding.from_pretrained(fasttext_vectors, freeze=True) # freezing weights\n",
        "embeddings.weight.requires_grad = True # unfreezing weights\n",
        "```\n",
        "\n",
        "\n",
        "\n",
        "\n",
        "\n"
      ]
    },
    {
      "cell_type": "code",
      "execution_count": null,
      "metadata": {
        "id": "IcoiGd6dJ9PP"
      },
      "outputs": [],
      "source": [
        "! pip install chess\n",
        "import chess\n",
        "from random import choice\n",
        "import torch\n",
        "from torch.utils.data import Dataset,DataLoader,SubsetRandomSampler\n",
        "from sklearn.model_selection import train_test_split\n",
        "from torch.autograd import Variable\n",
        "import numpy as np \n",
        "from tqdm import tqdm\n",
        "from torch import nn \n",
        "device = 'cuda' if torch.cuda.is_available() else 'cpu'"
      ]
    },
    {
      "cell_type": "code",
      "execution_count": null,
      "metadata": {
        "id": "4aWO90d1VsAD"
      },
      "outputs": [],
      "source": [
        "!git clone https://github.com/kikatuso/ChessTransformer"
      ]
    },
    {
      "cell_type": "code",
      "execution_count": null,
      "metadata": {
        "id": "M985MtdtV7zI"
      },
      "outputs": [],
      "source": [
        "from ChessTransformer.model import *"
      ]
    },
    {
      "cell_type": "code",
      "execution_count": null,
      "metadata": {
        "id": "fupizQNNU5dI"
      },
      "outputs": [],
      "source": [
        "! pip install -q kaggle\n",
        "! pip install sklearn"
      ]
    },
    {
      "cell_type": "code",
      "execution_count": null,
      "metadata": {
        "id": "uYQ7LpJGVNkM"
      },
      "outputs": [],
      "source": [
        "from google.colab import files\n",
        "files.upload()"
      ]
    },
    {
      "cell_type": "code",
      "execution_count": null,
      "metadata": {
        "id": "KOm9FYzCWtrs"
      },
      "outputs": [],
      "source": [
        "! mkdir ~/.kaggle\n",
        "! cp kaggle.json ~/.kaggle/\n",
        "! chmod 600 ~/.kaggle/kaggle.json"
      ]
    },
    {
      "cell_type": "code",
      "execution_count": null,
      "metadata": {
        "id": "gyM2zpW3S5p6"
      },
      "outputs": [],
      "source": [
        "!kaggle datasets download -d zuzannaskorniewska/fasttext-for-chess-move-modelling"
      ]
    },
    {
      "cell_type": "code",
      "execution_count": null,
      "metadata": {
        "id": "GbrkyOIcYCF4"
      },
      "outputs": [],
      "source": [
        "! unzip fasttext-for-chess-move-modelling.zip -d embedding"
      ]
    },
    {
      "cell_type": "code",
      "execution_count": null,
      "metadata": {
        "id": "fGDzEIc1Y0qa"
      },
      "outputs": [],
      "source": [
        "!pip install -r ChessTransformer/requirements.txt "
      ]
    },
    {
      "cell_type": "code",
      "execution_count": null,
      "metadata": {
        "id": "hC-R-BILKCea"
      },
      "outputs": [],
      "source": [
        "class LegalMovesBase(object):\n",
        "\n",
        "  def __init__(self,num_games:int=int(1e3),max_len:int=30):\n",
        "    self.num_games = num_games\n",
        "    self.max_len = max_len\n",
        "    self.games_arr = []\n",
        "\n",
        "  def generate_games(self):\n",
        "    games_arr = []\n",
        "    print('This may take a while...Please wait.')\n",
        "    for idx in tqdm(range(self.num_games)):\n",
        "      board = chess.Board()\n",
        "      game = ['<START>']\n",
        "      game = []\n",
        "      game_over = False\n",
        "      while game_over is False:\n",
        "          move=board.lan(choice(list(board.legal_moves)))\n",
        "          if '=' in move:\n",
        "            move=move.replace('=','')\n",
        "          board.push_san(move)\n",
        "          game.append(move)\n",
        "          game_over =  board.is_checkmate() or board.is_insufficient_material() or board.is_stalemate()\n",
        "          if game_over:\n",
        "              break\n",
        "      game.append('<END>')\n",
        "      games_arr.extend(game)\n",
        "    self.games_arr = games_arr\n",
        "    \n",
        "  \n",
        "  def __getitem__(self, i):\n",
        "        x = self.games_arr[i: i + self.max_len]\n",
        "        y = self.games_arr[i+1: i+ self.max_len+1]\n",
        "        return x, y\n",
        "\n",
        "  def __len__(self):\n",
        "        return max((len(self.games_arr) - self.max_len),0)\n"
      ]
    },
    {
      "cell_type": "code",
      "execution_count": null,
      "metadata": {
        "id": "6tDPl8fJSyj_"
      },
      "outputs": [],
      "source": [
        "dataset = LegalMovesBase(num_games=1000,max_len=30)\n",
        "dataset.generate_games()"
      ]
    },
    {
      "cell_type": "code",
      "execution_count": null,
      "metadata": {
        "id": "o8f4UNpiygml"
      },
      "outputs": [],
      "source": [
        "valid_test_split = 0.4\n",
        "random_seed= 31\n",
        "batch_size = 128\n",
        "data_size = len(dataset)\n",
        "\n",
        "# dividing training set to 0.6 of the total dataset\n",
        "train_idx, valid_test_idx = train_test_split(np.arange(data_size),test_size=valid_test_split,shuffle=True)\n",
        "\n",
        "# dividing validation and test set to sets of equal size, i.e. each 0.2 of the total dataset\n",
        "valid_idx, test_idx = train_test_split(valid_test_idx,test_size=0.5,shuffle=True)\n",
        "\n",
        "\n",
        "train_sampler = SubsetRandomSampler(train_idx)\n",
        "valid_sampler = SubsetRandomSampler(valid_idx)\n",
        "test_sampler = SubsetRandomSampler(test_idx)\n",
        "\n",
        "train_loader = DataLoader(dataset, batch_size=batch_size, sampler=train_sampler)\n",
        "validation_loader = DataLoader(dataset, batch_size=batch_size,sampler=valid_sampler)\n",
        "test_loader = DataLoader(dataset, batch_size=batch_size,sampler=test_sampler)\n",
        "\n"
      ]
    },
    {
      "cell_type": "code",
      "execution_count": null,
      "metadata": {
        "id": "mcxbW1BWh_2b"
      },
      "outputs": [],
      "source": [
        "def accuracy_score(predictions, labels,thresh=0.5):\n",
        "    pred_labels = predictions.argmax(dim=-1)\n",
        "    corrects = (pred_labels == labels)\n",
        "    accuracy = corrects.sum().float() / float(labels.size(0))\n",
        "    return accuracy.cpu().detach().numpy()\n",
        "\n",
        "\n",
        "def run_epoch(train_mode,loader,epoch, model, optimizer, loss_fnc):\n",
        "    epoch_metrics = {\n",
        "        'epoch': epoch,\n",
        "        'loss': 0.0,\n",
        "        'n_batches': len(loader),\n",
        "        'running_accuracy':0.0,\n",
        "        'perplexity':0.0\n",
        "    }\n",
        "\n",
        "    if train_mode:\n",
        "        model.train()\n",
        "    else:\n",
        "        model.eval()\n",
        "\n",
        "    num_batches = len(loader)\n",
        "\n",
        "    msg= 'Training' if train_mode else 'Validation'\n",
        "\n",
        "\n",
        "    for (X,target) in tqdm(loader, desc=f'{msg} epoch {epoch}', total=num_batches,position=0,leave=True):\n",
        "        \n",
        "        X,target = np.array(X).T,np.array(target).T\n",
        "        target = model.embedding.translate_wti(target)\n",
        "        target = Variable(torch.from_numpy(target)).type(torch.LongTensor).to(device)\n",
        "\n",
        "        if train_mode:\n",
        "            optimizer.zero_grad()\n",
        "            output = model.forward(X)\n",
        "            loss = loss_fnc(output.transpose(1,2), target)\n",
        "            loss.backward()\n",
        "            optimizer.step()\n",
        "        else:\n",
        "          torch.cuda.empty_cache()\n",
        "          with torch.no_grad():\n",
        "            output = model.forward(X)\n",
        "            loss = loss_fnc(output.transpose(1,2), target)\n",
        "\n",
        "\n",
        "                \n",
        "        epoch_metrics['running_accuracy'] += accuracy_score(output,target)\n",
        "\n",
        "        epoch_metrics['loss'] += float(loss.cpu().detach().numpy())\n",
        "\n",
        "    epoch_metrics['loss'] = epoch_metrics['loss'] / epoch_metrics['n_batches']\n",
        "    epoch_metrics['running_accuracy'] = epoch_metrics['running_accuracy']/epoch_metrics['n_batches']\n",
        "    epoch_metrics['perplexity']  = np.exp(epoch_metrics['loss'])\n",
        "\n",
        "    \n",
        "    return epoch_metrics"
      ]
    },
    {
      "cell_type": "code",
      "execution_count": null,
      "metadata": {
        "id": "LYOBly4LSykH"
      },
      "outputs": [],
      "source": [
        "N_epochs=10\n",
        "embed_path = '/content/embedding/fasttext_chess2vec.model'\n",
        "\n",
        "model = ChessTransformer(embed_path=embed_path)\n",
        "model = model.to(device)\n",
        "optim = torch.optim.Adam(params=model.parameters(),lr=0.1)\n",
        "loss_fnc = nn.CrossEntropyLoss()"
      ]
    },
    {
      "cell_type": "code",
      "source": [
        "def metrics_message(name,metrics):\n",
        "  call='\\n {}: loss: {}; accuracy: {}; perplexity: {}'.format(name,round(metrics['loss'],2),round(metrics['running_accuracy'],2),round(metrics['perplexity'],2))\n",
        "  return call\n"
      ],
      "metadata": {
        "id": "YxzZt_UU8S9a"
      },
      "execution_count": null,
      "outputs": []
    },
    {
      "cell_type": "code",
      "execution_count": null,
      "metadata": {
        "id": "ZM6j0wlUoIlj"
      },
      "outputs": [],
      "source": [
        "train_log = np.zeros([N_epochs,3])\n",
        "valid_log = np.zeros([N_epochs,3])\n",
        "train_acc_curve = []\n",
        "valid_acc_curve = []\n",
        "for epoch in range(N_epochs):\n",
        "  train_metrics = run_epoch(train_mode=True,loader=train_loader,epoch=epoch,model=model, optimizer=optim,loss_fnc = loss_fnc)\n",
        "  valid_metrics = run_epoch(train_mode=False,loader=validation_loader,epoch=epoch,model=model, optimizer=optim,loss_fnc = loss_fnc)\n",
        "\n",
        "  print(\"\\n Metrics after epoch:{}\".format(epoch))\n",
        "  print(metrics_message('train',train_metrics))\n",
        "  print(metrics_message('valid',valid_metrics))\n",
        "\n",
        "\n",
        "  train_log[epoch,:]=(train_metrics['loss'],train_metrics['running_accuracy'],train_metrics['perplexity'])\n",
        "  valid_log[epoch,:]=(valid_metrics['loss'],valid_metrics['running_accuracy'],valid_metrics['perplexity'])\n",
        " \n"
      ]
    },
    {
      "cell_type": "code",
      "source": [],
      "metadata": {
        "id": "0DGdmUruauGN"
      },
      "execution_count": null,
      "outputs": []
    }
  ],
  "metadata": {
    "accelerator": "GPU",
    "colab": {
      "provenance": [],
      "include_colab_link": true
    },
    "gpuClass": "standard",
    "kernelspec": {
      "display_name": "Python 3.9.0 64-bit",
      "language": "python",
      "name": "python3"
    },
    "language_info": {
      "codemirror_mode": {
        "name": "ipython",
        "version": 3
      },
      "file_extension": ".py",
      "mimetype": "text/x-python",
      "name": "python",
      "nbconvert_exporter": "python",
      "pygments_lexer": "ipython3",
      "version": "3.9.0"
    },
    "vscode": {
      "interpreter": {
        "hash": "e1270bf742471f08454fdc592834658bbc8e48a81afcac5abe53248a989e7303"
      }
    }
  },
  "nbformat": 4,
  "nbformat_minor": 0
}