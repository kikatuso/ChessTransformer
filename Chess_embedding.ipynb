{
 "cells": [
  {
   "cell_type": "markdown",
   "metadata": {
    "id": "_lZ-x8Xtmmaw"
   },
   "source": [
    "\n",
    "\n",
    "3 stages of training:\n",
    "- initial training on any sequences so that the model learns legal moves and iterating two-player moves\n",
    "- 2nd stage in which the algorithm learns winning moves of the black player (trained on a subset of data containing victorious black games)\n",
    "- 3rd stage in which the algorithm learns winning moves for the white player \n",
    "\n",
    "\n"
   ]
  },
  {
   "cell_type": "code",
   "execution_count": null,
   "metadata": {
    "colab": {
     "base_uri": "https://localhost:8080/"
    },
    "id": "G67eNUdL0SIY",
    "outputId": "866510f4-9f64-4031-a4d3-5d02e6186222"
   },
   "outputs": [],
   "source": [
    "# !pip install chess\n",
    "import pandas as pd \n",
    "#from google.colab import files,drive\n",
    "import IPython\n",
    "import chess\n",
    "import chess.svg\n",
    "import numpy as np \n",
    "from gensim.models import fasttext\n",
    "from tqdm import tqdm"
   ]
  },
  {
   "cell_type": "code",
   "execution_count": null,
   "metadata": {
    "colab": {
     "base_uri": "https://localhost:8080/",
     "height": 53
    },
    "id": "VLRahju6V6Xw",
    "outputId": "d870e772-f949-448f-8a9b-5529226440b6"
   },
   "outputs": [],
   "source": [
    "\"\"\"\n",
    "zstd -d lichess_db_standard_rated_2018-06.pgn.zst\n",
    "\"\"\"\n",
    "\n",
    "\"\"\"\n",
    "pgn-extract.exe lichess_db_standard_rated_2018-06.pgn -otrain_20_million.pgn -w1000 -Wxolalg -t WhiteElo >= \"1500\" BlackElo >= \"1500\" -bl20 --noresults --notags --nomovenumbers --nocomments --nonags --nosetuptags --quiet\n",
    "\"\"\"\n"
   ]
  },
  {
   "cell_type": "code",
   "execution_count": null,
   "metadata": {
    "colab": {
     "base_uri": "https://localhost:8080/"
    },
    "id": "5p93JnEkwu2q",
    "outputId": "cafbf849-fa42-42b2-a35e-f9c911fceecb"
   },
   "outputs": [],
   "source": [
    "#drive.mount('/content/drive')"
   ]
  },
  {
   "cell_type": "code",
   "execution_count": null,
   "metadata": {
    "colab": {
     "base_uri": "https://localhost:8080/"
    },
    "id": "7cddGFbF8L5D",
    "outputId": "5133de67-40c1-4056-9681-d83f3c9d59a5"
   },
   "outputs": [],
   "source": [
    "#!unzip 'drive/MyDrive/chess/train_10_million.zip' -d 'train'"
   ]
  },
  {
   "cell_type": "code",
   "execution_count": null,
   "metadata": {
    "id": "hrtUt7LX4yL1"
   },
   "outputs": [],
   "source": [
    "class ChessDatabase(object):    \n",
    "    def __init__(self, filename):\n",
    "        self.filename = filename\n",
    "\n",
    "    def __len__(self):\n",
    "      return sum(1 for line in open(self.filename,'r'))\n",
    "\n",
    "    def __iter__(self):\n",
    "        for line in open(self.filename, 'r'):\n",
    "            ll = [i for i in line.split()]\n",
    "            ll.insert(0,'<START>')\n",
    "            ll.append('<END>')\n",
    "            yield ll"
   ]
  },
  {
   "cell_type": "code",
   "execution_count": null,
   "metadata": {
    "id": "IJu2O11083Wa"
   },
   "outputs": [],
   "source": [
    "class WhiteMoves(object):    \n",
    "    def __init__(self, filename):\n",
    "        self.filename = filename\n",
    "\n",
    "    def __len__(self):\n",
    "      return sum(1 for line in open(self.filename,'r'))\n",
    "\n",
    "    def __iter__(self):\n",
    "        for line in open(self.filename, 'r'):\n",
    "            ll = [i for i in line.split()][::2]\n",
    "            yield ll\n",
    "\n",
    "class BlackMoves(object):    \n",
    "    def __init__(self, filename):\n",
    "        self.filename = filename\n",
    "\n",
    "    def __len__(self):\n",
    "      return sum(1 for line in open(self.filename,'r'))\n",
    "\n",
    "    def __iter__(self):\n",
    "        for line in open(self.filename, 'r'):\n",
    "            ll = [i for i in line.split()][1::2]\n",
    "            yield ll\n",
    "            "
   ]
  },
  {
   "cell_type": "code",
   "execution_count": null,
   "metadata": {
    "id": "MAQZlVHt5e5f"
   },
   "outputs": [],
   "source": [
    "filepath = 'D:/chess/train_10_million.pgn'\n",
    "chess_games = ChessDatabase(filepath)\n",
    "black_moves = BlackMoves(filepath)\n",
    "white_moves = WhiteMoves(filepath)"
   ]
  },
  {
   "cell_type": "code",
   "execution_count": null,
   "metadata": {
    "colab": {
     "base_uri": "https://localhost:8080/"
    },
    "id": "gljQYQYtZIua",
    "outputId": "280d30b9-a71e-401c-a0e1-f3720c87e900"
   },
   "outputs": [],
   "source": [
    "game_example = next(iter(chess_games))\n",
    "\n",
    "len(chess_games)/1e6"
   ]
  },
  {
   "cell_type": "code",
   "execution_count": null,
   "metadata": {
    "colab": {
     "base_uri": "https://localhost:8080/",
     "height": 372
    },
    "id": "AMbAawKGC3cN",
    "outputId": "068aff8c-cd18-4559-a79c-bd94ad488f3a"
   },
   "outputs": [],
   "source": [
    "partie = game_example[1:-1]\n",
    "\n",
    "board = chess.Board()\n",
    "\n",
    "i = 0\n",
    "for zug in partie:\n",
    "    try:\n",
    "        board.push_san(zug) \n",
    "        i = i+1\n",
    "    except:\n",
    "        print(i)\n",
    "        break\n",
    "    \n",
    "board_svg=chess.svg.board(board, size=350) \n",
    "display(IPython.display.HTML(board_svg))"
   ]
  },
  {
   "cell_type": "code",
   "execution_count": null,
   "metadata": {
    "id": "ZUjpHt1mpCSM"
   },
   "outputs": [],
   "source": [
    "# !mkdir drive/MyDrive/chess/chess_embedding_fasttext_model/"
   ]
  },
  {
   "cell_type": "code",
   "execution_count": null,
   "metadata": {
    "id": "iyhDFrFNpRnJ"
   },
   "outputs": [],
   "source": [
    "from gensim.test.utils import get_tmpfile\n",
    "from gensim.models.callbacks import CallbackAny2Vec\n",
    "\n",
    "\n",
    "class EpochSaver(CallbackAny2Vec):\n",
    "    '''Callback to save model after each epoch.'''\n",
    "\n",
    "    def __init__(self,output_path):\n",
    "        self.output_path = output_path\n",
    "        self.epoch = 0\n",
    "\n",
    "    def on_epoch_end(self, model):\n",
    "        model.save(self.output_path)\n",
    "        self.epoch += 1\n",
    "\n",
    "\n",
    "class EpochLogger(CallbackAny2Vec):\n",
    "    '''Callback to log information about training'''\n",
    "\n",
    "    def __init__(self):\n",
    "        self.epoch = 0\n",
    "\n",
    "    def on_train_begin(self, model):\n",
    "        print(\"Training starts now.\")\n",
    "\n",
    "    def on_epoch_begin(self, model):\n",
    "        print(\"Epoch #{} start\".format(self.epoch))\n",
    "\n",
    "    def on_epoch_end(self, model):\n",
    "        print(\"Epoch #{} end\".format(self.epoch))\n",
    "        self.epoch += 1\n",
    "\n",
    "\n",
    "class tqdmEveryIteration(object):\n",
    "    def __init__(self,filename):\n",
    "        super().__init__()\n",
    "        self.inner_iterable = ChessDatabase(filename)\n",
    "    def __iter__(self):\n",
    "        return iter(tqdm(self.inner_iterable,position=0,leave=True))\n",
    "\n",
    "epoch_logger = EpochLogger()\n",
    "epoch_saver = EpochSaver(output_path=\"drive/MyDrive/chess/chess_embedding_fasttext_model/chess2vec.model\")\n",
    "\n",
    "tqdm_chess_games=tqdmEveryIteration(filepath)"
   ]
  },
  {
   "cell_type": "code",
   "execution_count": null,
   "metadata": {
    "colab": {
     "base_uri": "https://localhost:8080/",
     "height": 346
    },
    "id": "d_u3jkBCW96H",
    "outputId": "7902f4b2-8bbd-4df4-cd04-3beb569b3cb2"
   },
   "outputs": [],
   "source": [
    "fastembed = fasttext.FastText(sentences=tqdm_chess_games, vector_size=500, window=7,epochs=5, workers=4,min_n=1,\n",
    "                              sg=0,callbacks=[epoch_logger,epoch_saver])"
   ]
  },
  {
   "cell_type": "code",
   "execution_count": null,
   "metadata": {
    "colab": {
     "base_uri": "https://localhost:8080/",
     "height": 166
    },
    "id": "jYZPUw8PG45w",
    "outputId": "4ed07718-138b-4355-c01e-9342c79a33b1"
   },
   "outputs": [],
   "source": [
    "fastembed.callbacks = ()\n",
    "fastembed.save(\"drive/MyDrive/chess/chess_embedding_fasttext_model/chess2vec.model\")"
   ]
  },
  {
   "cell_type": "code",
   "execution_count": null,
   "metadata": {
    "id": "1SJgRehHX_c9"
   },
   "outputs": [],
   "source": [
    "modelWhiteOnly = Word2Vec(sentences=white_moves, size=500, window=7, workers=8)"
   ]
  },
  {
   "cell_type": "code",
   "execution_count": null,
   "metadata": {
    "colab": {
     "base_uri": "https://localhost:8080/"
    },
    "id": "5U2vgbFB5_vw",
    "outputId": "34716cb1-9029-4450-f553-0bde702ed99e"
   },
   "outputs": [],
   "source": [
    "modelWhiteOnly.build_vocab(black_moves, update=True)\n",
    "model_sep_trained = modelWhiteOnly.train(black_moves, total_examples=modelWhiteOnly.corpus_count, epochs=modelWhiteOnly.epochs)\n",
    "#!mkdir drive/MyDrive/chess/chess_embedding_sep_model/\n",
    "#modelWhiteOnly.save(\"drive/MyDrive/chess/chess_embedding_sep_model/chess2vec.model\")"
   ]
  },
  {
   "cell_type": "code",
   "execution_count": null,
   "metadata": {
    "colab": {
     "base_uri": "https://localhost:8080/"
    },
    "id": "8K188mjTIfrK",
    "outputId": "975c1131-eb17-428e-edfa-a16e4252043f"
   },
   "outputs": [],
   "source": [
    "model500=Word2Vec.load(\"drive/MyDrive/chess/chess_embedding_500_model/chess2vec.model\")\n",
    "modelsep=Word2Vec.load(\"drive/MyDrive/chess/chess_embedding_sep_model/chess2vec.model\")"
   ]
  },
  {
   "cell_type": "code",
   "execution_count": null,
   "metadata": {
    "colab": {
     "base_uri": "https://localhost:8080/"
    },
    "id": "Tb0Ml38mMQlv",
    "outputId": "abe4fefa-90db-4a7f-caff-90469fc71133"
   },
   "outputs": [],
   "source": [
    "print(list(modelsep.wv.similar_by_word('Ng1-f3')))\n",
    "\n",
    "print(model500.wv.similar_by_word('Ng1-f3'))\n"
   ]
  },
  {
   "cell_type": "code",
   "execution_count": null,
   "metadata": {
    "colab": {
     "base_uri": "https://localhost:8080/",
     "height": 166
    },
    "id": "TJIUKh_qJhdM",
    "outputId": "5729fefb-dea3-4f47-d228-88eaaed5ef57"
   },
   "outputs": [],
   "source": [
    "fastembed"
   ]
  },
  {
   "cell_type": "code",
   "execution_count": null,
   "metadata": {
    "id": "J-mSh51-jDl3"
   },
   "outputs": [],
   "source": []
  }
 ],
 "metadata": {
  "accelerator": "GPU",
  "colab": {
   "provenance": []
  },
  "gpuClass": "standard",
  "kernelspec": {
   "display_name": "Python 3",
   "language": "python",
   "name": "python3"
  },
  "language_info": {
   "codemirror_mode": {
    "name": "ipython",
    "version": 3
   },
   "file_extension": ".py",
   "mimetype": "text/x-python",
   "name": "python",
   "nbconvert_exporter": "python",
   "pygments_lexer": "ipython3",
   "version": "3.9.0"
  },
  "vscode": {
   "interpreter": {
    "hash": "e1270bf742471f08454fdc592834658bbc8e48a81afcac5abe53248a989e7303"
   }
  }
 },
 "nbformat": 4,
 "nbformat_minor": 1
}
